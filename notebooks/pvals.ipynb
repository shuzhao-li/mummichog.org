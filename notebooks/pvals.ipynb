{
 "cells": [
  {
   "cell_type": "markdown",
   "metadata": {},
   "source": [
    "# Find significant features\n",
    "Compute a p value for each feature\n",
    "\n",
    "Author: Andrei Todor"
   ]
  },
  {
   "cell_type": "code",
   "execution_count": 1,
   "metadata": {
    "collapsed": true
   },
   "outputs": [],
   "source": [
    "import numpy as np\n",
    "import pandas as pd\n",
    "from scipy.stats import ttest_ind, f_oneway\n",
    "from statsmodels.sandbox.stats.multicomp import multipletests"
   ]
  },
  {
   "cell_type": "markdown",
   "metadata": {},
   "source": [
    "# Output format option\n",
    "Short output will include mz, rt and pvals per line. Long output will also include all sample intensity values for each feature. Use short output for mummichog; long output for heat maps."
   ]
  },
  {
   "cell_type": "code",
   "execution_count": 2,
   "metadata": {
    "collapsed": true
   },
   "outputs": [],
   "source": [
    "# include intensity values\n",
    "long_output = 1"
   ]
  },
  {
   "cell_type": "markdown",
   "metadata": {},
   "source": [
    "# Read inputs"
   ]
  },
  {
   "cell_type": "code",
   "execution_count": 3,
   "metadata": {
    "collapsed": true
   },
   "outputs": [],
   "source": [
    "# read feature table\n",
    "infile = \"../results/features_avg_pos.txt\"\n",
    "filter_data = pd.read_table(infile)\n",
    "filter_header = [x for x in filter_data]\n",
    "\n",
    "# set up sample groups\n",
    "sample_files = [\"../data/samples_p.csv\", \"../data/samples_mock.csv\", \"../data/samples_yf.csv\"]\n",
    "g = []\n",
    "for gf in sample_files:\n",
    "    f = open(gf, 'r')\n",
    "    ids = [id.rstrip() for id in f.readlines() if len(id.strip()) > 0]\n",
    "    if len(ids) > 0:\n",
    "        g.append(ids)\n",
    "    f.close()"
   ]
  },
  {
   "cell_type": "markdown",
   "metadata": {},
   "source": [
    "# Statistical tests\n",
    "If 2 classes, perform t test, otherwise ANOVA\n",
    "\n",
    "Compute p-value and corrected p-value for each feature\n",
    "\n",
    "Write output to file"
   ]
  },
  {
   "cell_type": "code",
   "execution_count": 4,
   "metadata": {
    "collapsed": true
   },
   "outputs": [],
   "source": [
    "pvals = []\n",
    "for idx in range(filter_data.shape[0]):\n",
    "    line = filter_data.iloc[idx]\n",
    "    nl = \"\"\n",
    "    data = []\n",
    "    ndata = []\n",
    "    for k in range(len(g)):\n",
    "        data.append([line[i] for i in range(len(line)) if filter_header[i] in g[k]])\n",
    "        ndata.append(len([x for x in data[k]]))\n",
    "    if (all(x > 0 for x in ndata)):\n",
    "        #should do a paired test, but we eliminated a sample from timepoint 0\n",
    "        if len(g) == 2:\n",
    "            (f, p) = ttest_ind(*data)\n",
    "        else:\n",
    "            (f, p) = f_oneway(*data)\n",
    "        s = \"\"\n",
    "        for k in range(len(g)):\n",
    "            for j in range(len(g[k])):\n",
    "                if g[k][j] in filter_header:\n",
    "                    i = filter_header.index(g[k][j])\n",
    "                    s = s + \"\\t\" + str(line[i])\n",
    "        pvals.append([idx, line[0], line[1], p, f, s])\n",
    "bh = multipletests([x[3] for x in pvals], method = 'fdr_bh')\n",
    "\n",
    "new_header = \"mz\\trt\\tpval\\tscore\\tFDR\"\n",
    "if long_output == 1:\n",
    "    for k in range(len(g)):\n",
    "        for j in range(len(g[k])):\n",
    "            if g[k][j] in filter_header:\n",
    "                new_header = new_header + \"\\t\" + g[k][j]\n",
    "\n",
    "                \n",
    "# write output\n",
    "out_dir = \"../results\"\n",
    "file = open(out_dir + \"/pvals_pos.txt\", \"w\")\n",
    "file.write(new_header + \"\\n\")\n",
    "for i in range(len(pvals)):\n",
    "    line = filter_data.iloc[pvals[i][0]]\n",
    "    if long_output == 0:\n",
    "        pvals[i][5] = \"\"\n",
    "    file.write(str(line[0]) + \"\\t\" + str(line[1]) + \"\\t\" + str(pvals[i][3]) + \"\\t\" + str(pvals[i][4]) + \"\\t\" + str(bh[1][i]) + pvals[i][5] + \"\\n\")"
   ]
  },
  {
   "cell_type": "code",
   "execution_count": null,
   "metadata": {
    "collapsed": true
   },
   "outputs": [],
   "source": []
  }
 ],
 "metadata": {
  "kernelspec": {
   "display_name": "Python 2",
   "language": "python",
   "name": "python2"
  },
  "language_info": {
   "codemirror_mode": {
    "name": "ipython",
    "version": 2
   },
   "file_extension": ".py",
   "mimetype": "text/x-python",
   "name": "python",
   "nbconvert_exporter": "python",
   "pygments_lexer": "ipython2",
   "version": "2.7.12"
  }
 },
 "nbformat": 4,
 "nbformat_minor": 2
}
