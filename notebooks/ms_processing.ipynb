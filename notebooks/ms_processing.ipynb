{
 "cells": [
  {
   "cell_type": "markdown",
   "metadata": {},
   "source": [
    "# Pre-processing\n",
    "Quality control\n",
    "\n",
    "Average technical replicates\n",
    "\n",
    "Eliminate standard samples\n",
    "\n",
    "Filter samples & features\n",
    "\n",
    "Authors: Andrei Todor, Shuzhao Li"
   ]
  },
  {
   "cell_type": "code",
   "execution_count": 1,
   "metadata": {
    "collapsed": true
   },
   "outputs": [],
   "source": [
    "import numpy as np\n",
    "import pandas as pd\n",
    "from scipy.stats.stats import pearsonr\n",
    "from scipy.stats import ttest_ind, f_oneway\n",
    "from statsmodels.sandbox.stats.multicomp import multipletests\n",
    "from pylab import savefig\n",
    "from math import log\n",
    "import matplotlib.pyplot as plt"
   ]
  },
  {
   "cell_type": "markdown",
   "metadata": {},
   "source": [
    "## Set up file format options"
   ]
  },
  {
   "cell_type": "markdown",
   "metadata": {},
   "source": [
    "Each row has a number of header attributes, listed before the intensity values for each technical replicate."
   ]
  },
  {
   "cell_type": "code",
   "execution_count": 2,
   "metadata": {
    "collapsed": true
   },
   "outputs": [],
   "source": [
    "# number of initial columns\n",
    "frontcols = 4"
   ]
  },
  {
   "cell_type": "markdown",
   "metadata": {},
   "source": [
    "Sometimes the column names in the feature table are within quotation marks"
   ]
  },
  {
   "cell_type": "code",
   "execution_count": 3,
   "metadata": {
    "collapsed": true
   },
   "outputs": [],
   "source": [
    "# file names are within quotation marks in arg 1 (0/1)\n",
    "quotes = 0"
   ]
  },
  {
   "cell_type": "markdown",
   "metadata": {},
   "source": [
    "Sometimes the sample identifiers in the sequence file end in _1, _2, ..., etc., where _1, _2, ... indicate the technical replicate number"
   ]
  },
  {
   "cell_type": "code",
   "execution_count": 4,
   "metadata": {
    "collapsed": true
   },
   "outputs": [],
   "source": [
    "# sample ids are subscripted in arg 2 (0/1)\n",
    "subscripted = 1"
   ]
  },
  {
   "cell_type": "markdown",
   "metadata": {},
   "source": [
    "Sometimes the column names in the feature table include the extension of the file name to which they correspond"
   ]
  },
  {
   "cell_type": "code",
   "execution_count": 5,
   "metadata": {
    "collapsed": true
   },
   "outputs": [],
   "source": [
    "# file name have extension in arg 1\n",
    "extension = 1"
   ]
  },
  {
   "cell_type": "markdown",
   "metadata": {},
   "source": [
    "# Read feature table"
   ]
  },
  {
   "cell_type": "code",
   "execution_count": 6,
   "metadata": {
    "collapsed": true
   },
   "outputs": [],
   "source": [
    "infile = \"../data/features_pos.txt\"\n",
    "mydata = pd.read_table(infile)\n",
    "header = [x for x in mydata]"
   ]
  },
  {
   "cell_type": "markdown",
   "metadata": {},
   "source": [
    "# Set up file name to sample name association\n",
    "Each column in the feature table is identified by a file name, and each file contains data from one technical replicate. For a meaningful biological analysis we want to compare biological samples. Therefore the association between file names and biological samples needs to be established. This association is found in the sequence file and we need to retrieve it."
   ]
  },
  {
   "cell_type": "code",
   "execution_count": 7,
   "metadata": {
    "collapsed": true
   },
   "outputs": [],
   "source": [
    "# which samples are standards? \n",
    "def is_sample(field):\n",
    "    return \"nist\" not in field and \"q3\" not in field and \"wash\" not in field\n",
    "\n",
    "# sequence file\n",
    "samplesfile = \"../data/cdf_keys.csv\"\n",
    "\n",
    "#file name to sample name dictionary\n",
    "sample_ids = {}\n",
    "sample_dict = {}\n",
    "sampledata = open(samplesfile).readlines()\n",
    "for line in sampledata[1:]:\n",
    "    dt = line.rstrip().split(\"\\t\")\n",
    "    if (subscripted == 1):\n",
    "        sample_dict[dt[0]] = dt[1][:-2]\n",
    "    else:\n",
    "        sample_dict[dt[0]] = dt[1]\n",
    "    if is_sample(dt[1]):\n",
    "        sample_ids[dt[1][:-2]] = []"
   ]
  },
  {
   "cell_type": "code",
   "execution_count": 8,
   "metadata": {},
   "outputs": [
    {
     "name": "stdout",
     "output_type": "stream",
     "text": [
      "{'yf_6hr_02': [21, 22, 23], 'yf_6hr_03': [24, 25, 26], 'yf_6hr_01': [18, 19, 20], 'p_0hr_02': [3, 4, 5], 'p_0hr_03': [15, 16, 17], 'p_0hr_01': [0, 1, 2], 'mock_6hr_01': [6, 7, 8], 'mock_6hr_03': [12, 13, 14], 'mock_6hr_02': [9, 10, 11]}\n"
     ]
    }
   ],
   "source": [
    "# sample names to file names dictionary\n",
    "for sid in sample_ids:\n",
    "    for s in range(len(header) - frontcols):\n",
    "        f = header[s + frontcols]\n",
    "        if quotes == 1:\n",
    "            k = f[1 : len(f) - 1].split('.')\n",
    "        else:\n",
    "            k = f.split('.')\n",
    "        if extension == 1:\n",
    "            fn = '.'.join(k[:len(k) - 1])\n",
    "        else:\n",
    "            fn = k[0]\n",
    "        if sample_dict.has_key(fn):\n",
    "            field_name = sample_dict[fn]\n",
    "            if (sid == field_name):\n",
    "                sample_ids[sid].append(s)\n",
    "print(sample_ids)"
   ]
  },
  {
   "cell_type": "markdown",
   "metadata": {},
   "source": [
    "# Quality control"
   ]
  },
  {
   "cell_type": "markdown",
   "metadata": {},
   "source": [
    "Plot average intensity in samples"
   ]
  },
  {
   "cell_type": "code",
   "execution_count": 9,
   "metadata": {},
   "outputs": [
    {
     "data": {
      "image/png": "[encoded data removed]",
      "text/plain": [
       "<matplotlib.figure.Figure at 0x7f4ed3bf60d0>"
      ]
     },
     "metadata": {},
     "output_type": "display_data"
    }
   ],
   "source": [
    "new_header = [x for x in mydata][frontcols:]\n",
    "log_data = np.log2(mydata + 1)\n",
    "mean_TIC = log_data.mean(0)\n",
    "# plot bars for first N columns\n",
    "N = min(50, len(new_header))\n",
    "ind = np.arange(N)\n",
    "plt.figure(figsize=(15,3))\n",
    "plt.bar(ind, mean_TIC[frontcols:frontcols+N])\n",
    "plt.ylabel(\"Average intensity\")\n",
    "plt.title(\"Ave Intensity [:%d]\" %N)\n",
    "plt.xticks(ind, mydata.columns[frontcols : N + frontcols], rotation=-90)\n",
    "plt.show()"
   ]
  },
  {
   "cell_type": "markdown",
   "metadata": {},
   "source": [
    "Distribution of signal intensities in histograms"
   ]
  },
  {
   "cell_type": "code",
   "execution_count": 10,
   "metadata": {},
   "outputs": [
    {
     "data": {
      "image/png": "[encoded data removed]",
      "text/plain": [
       "<matplotlib.figure.Figure at 0x7f4ed3be4650>"
      ]
     },
     "metadata": {},
     "output_type": "display_data"
    }
   ],
   "source": [
    "# only if the sample number is large\n",
    "import matplotlib.mlab as mlab\n",
    "num_bins = 50\n",
    "plt.figure(figsize=(6,4))\n",
    "plt.hist(mean_TIC, num_bins, normed=0)\n",
    "plt.title(\"Distribution of sample ave TIC\")\n",
    "plt.xlabel(\"Average log2(intensity)\")\n",
    "plt.ylabel(\"Number of replicates\")\n",
    "plt.show()"
   ]
  },
  {
   "cell_type": "markdown",
   "metadata": {},
   "source": [
    "Distribution of signal intensities in histograms, without NIST or Qstd samples\n"
   ]
  },
  {
   "cell_type": "code",
   "execution_count": 11,
   "metadata": {},
   "outputs": [
    {
     "data": {
      "image/png": "[encoded data removed]",
      "text/plain": [
       "<matplotlib.figure.Figure at 0x7f4ed3bf6510>"
      ]
     },
     "metadata": {},
     "output_type": "display_data"
    },
    {
     "name": "stdout",
     "output_type": "stream",
     "text": [
      "~~~ Samples with ave log2 intensity < 10:\n",
      "('YP_Shuzhao_001.cdf', 9.8806287519851566)\n",
      "('YP_Shuzhao_003.cdf', 5.9722266569816034)\n",
      "('YP_Shuzhao_005.cdf', 9.8806285350790723)\n",
      "('YP_Shuzhao_007.cdf', 9.880628976634382)\n"
     ]
    }
   ],
   "source": [
    "# to exclude reference samples:\n",
    "sample_header = [x for x in header[frontcols:] if is_sample(x)]\n",
    "sample_data = log_data[ sample_header ]\n",
    "\n",
    "plt.figure(figsize=(6,4))\n",
    "plt.hist(sample_data.mean(0), num_bins, normed=0)\n",
    "plt.title(\"Distribution of sample ave TIC\")\n",
    "plt.xlabel(\"Average log2(intensity)\")\n",
    "plt.ylabel(\"Number of replicates\")\n",
    "plt.show()\n",
    "\n",
    "# this new plot shows that the reference samples were clustered around X=11.3\n",
    "# and there are a few samples with very low intensities, which should be taken out\n",
    "\n",
    "# alternative way to show:\n",
    "low_intensity_replicates = []\n",
    "print(\"~~~ Samples with ave log2 intensity < 10:\")\n",
    "for i in range(len(mean_TIC)):\n",
    "    if mean_TIC[i] < 10:\n",
    "        low_intensity_replicates.append(header[i + frontcols])\n",
    "        print(header[i + frontcols], mean_TIC[i])"
   ]
  },
  {
   "cell_type": "markdown",
   "metadata": {},
   "source": [
    "Determine which replicates to remove: pairwise correlations between technical replicates of the same sample must be smaller than cutoff."
   ]
  },
  {
   "cell_type": "code",
   "execution_count": 12,
   "metadata": {},
   "outputs": [
    {
     "name": "stdout",
     "output_type": "stream",
     "text": [
      "Overlap btw low_intensity_replicates and bad_replicates:\n",
      "set([])\n"
     ]
    }
   ],
   "source": [
    "# sample correlation threshold\n",
    "corr_thr = 0.3\n",
    "\n",
    "def call_bad_replicate(CorrDataFrame, corr_CUTOFF):\n",
    "    # assuming three replicates here, \n",
    "    # return list of bad replicates\n",
    "    names = [x for x in CorrDataFrame]\n",
    "    good = []\n",
    "    if CorrDataFrame.values[0, 1] > corr_CUTOFF:\n",
    "        good += [names[0], names[1]]\n",
    "        \n",
    "    if CorrDataFrame.values[0, 2] > corr_CUTOFF:\n",
    "        good += [names[0], names[2]]\n",
    "        \n",
    "    if CorrDataFrame.values[1, 2] > corr_CUTOFF:\n",
    "        good += [names[1], names[2]]\n",
    "\n",
    "    return [x for x in names if x not in good]\n",
    "\n",
    "all_Pearson_coefficients, bad_replicates = [], []\n",
    "for k,v in sample_ids.items():\n",
    "    if len(v) == 3:  # only do if three replicates\n",
    "        Pr = log_data[[header[x + frontcols] for x in v]].corr()\n",
    "        all_Pearson_coefficients.append((v, Pr))\n",
    "        bad = call_bad_replicate(Pr, corr_thr)\n",
    "        if bad:\n",
    "            bad_replicates += bad\n",
    "            print(\"- Bad corr - %s\" %str(bad))\n",
    "            # uncomment below to see the whole corr matrix\n",
    "            #print(Pr)\n",
    "    \n",
    "# For this example dataset, many Qstd samples have the same name. Skipping them for now.\n",
    "# Alternative method can use stats.pearsonr and itertools.combinations\n",
    "\n",
    "# compare low_intensity_replicates with bad_replicates\n",
    "print(\"Overlap btw low_intensity_replicates and bad_replicates:\" )\n",
    "print(set(low_intensity_replicates).intersection(set(bad_replicates)))"
   ]
  },
  {
   "cell_type": "markdown",
   "metadata": {},
   "source": [
    "# Filter replicates"
   ]
  },
  {
   "cell_type": "code",
   "execution_count": 13,
   "metadata": {
    "collapsed": true
   },
   "outputs": [],
   "source": [
    "# update sample_ids dictionary\n",
    "black_list = set(low_intensity_replicates + bad_replicates)\n",
    "new_sample_ids = {}\n",
    "for k,v in sample_ids.items():\n",
    "    new = [x for x in v if header[x + frontcols] not in black_list]\n",
    "    if new:\n",
    "        if is_sample(k):\n",
    "            new_sample_ids[k] = new"
   ]
  },
  {
   "cell_type": "markdown",
   "metadata": {},
   "source": [
    "# Set up sample groups\n",
    "We assume that the analysis involves comparison between two or more groups or classes of samples. The identifiers of samples corresponding to each group are listed in a separate text file, one file per group."
   ]
  },
  {
   "cell_type": "code",
   "execution_count": 14,
   "metadata": {
    "collapsed": true
   },
   "outputs": [],
   "source": [
    "# sample groups\n",
    "sample_files = [\"../data/samples_p.csv\", \"../data/samples_mock.csv\", \"../data/samples_yf.csv\"]\n",
    "\n",
    "g = []\n",
    "for gf in sample_files:\n",
    "    f = open(gf, 'r')\n",
    "    ids = [id.rstrip() for id in f.readlines() if len(id.strip()) > 0]\n",
    "    if len(ids) > 0:\n",
    "        g.append(ids)\n",
    "    f.close()"
   ]
  },
  {
   "cell_type": "markdown",
   "metadata": {},
   "source": [
    "# Filter features & average technical replicates\n",
    "Take average of non-zero values of technical replicates of each sample\n",
    "\n",
    "For each feature, percentage of non-zero values in at least one group must be larger than threshold, otherwise feature is eliminated.\n",
    "\n",
    "Compute presence histogram\n",
    "\n",
    "Write processed feature table to file."
   ]
  },
  {
   "cell_type": "code",
   "execution_count": 15,
   "metadata": {
    "collapsed": true
   },
   "outputs": [],
   "source": [
    "# zeros percentage threshold\n",
    "pres = 0.5\n",
    "\n",
    "filter_header = [] # new header\n",
    "for i in range(frontcols): # initial columns\n",
    "    filter_header.append(header[i]) \n",
    "for gr in g:\n",
    "    for sid in gr:\n",
    "        if new_sample_ids.has_key(sid):\n",
    "            filter_header.append(sid)\n",
    "filter_data = []\n",
    "zero_hist = [0.0] * (len(new_sample_ids.keys()) + 1)\n",
    "for k in range(log_data.shape[0]):\n",
    "    line = log_data.iloc[k]\n",
    "    nl = []\n",
    "    nz = [0] * len(g)\n",
    "    for i in range(frontcols): # initial columns\n",
    "        nl.append(mydata.iloc[k][i])\n",
    "    for i in range(len(g)):\n",
    "        gr = g[i]\n",
    "        for sid in gr:\n",
    "            if new_sample_ids.has_key(sid):\n",
    "                st = [line[x + frontcols] for x in new_sample_ids[sid] if line[x + frontcols] > 1]\n",
    "                m = 0 if len(st) == 0 else np.mean(st)\n",
    "                #print(st)\n",
    "                if m > 0.0001:\n",
    "                    nz[i] = nz[i] + 1\n",
    "                nl.append(m)\n",
    "    if any([float(nz[i])/float(len(g[i])) > pres for i in range(len(g))]):    \n",
    "        filter_data.append(nl)\n",
    "    zero_hist[sum(nz)] += 1\n",
    "\n",
    "# write output\n",
    "out_dir = \"../results\"\n",
    "with open(out_dir + \"/features_avg_pos.txt\", 'w') as file:\n",
    "    file.write('\\t'.join(filter_header))\n",
    "    file.write(\"\\n\")\n",
    "    for line in filter_data:\n",
    "        file.write('\\t'.join([str(x) for x in line]))\n",
    "        file.write(\"\\n\")"
   ]
  },
  {
   "cell_type": "markdown",
   "metadata": {},
   "source": [
    "# Plot zeros histogram"
   ]
  },
  {
   "cell_type": "code",
   "execution_count": 23,
   "metadata": {
    "scrolled": false
   },
   "outputs": [
    {
     "data": {
      "image/png": "[encoded data removed]",
      "text/plain": [
       "<matplotlib.figure.Figure at 0x7f4ece5d81d0>"
      ]
     },
     "metadata": {},
     "output_type": "display_data"
    }
   ],
   "source": [
    "n = len(zero_hist)\n",
    "fig = plt.figure()\n",
    "ax = fig.add_subplot(111)\n",
    "ax.bar([float(x)/float(n-1) for x in range(n)], zero_hist, 0.3/float(len(new_sample_ids.keys())))\n",
    "plt.title(\"Non-zeros histogram\")\n",
    "plt.xlabel(\"Percentage presence\")\n",
    "plt.ylabel(\"Number of features\")\n",
    "plt.show()"
   ]
  }
 ],
 "metadata": {
  "kernelspec": {
   "display_name": "Python 2",
   "language": "python",
   "name": "python2"
  },
  "language_info": {
   "codemirror_mode": {
    "name": "ipython",
    "version": 2
   },
   "file_extension": ".py",
   "mimetype": "text/x-python",
   "name": "python",
   "nbconvert_exporter": "python",
   "pygments_lexer": "ipython2",
   "version": "2.7.12"
  }
 },
 "nbformat": 4,
 "nbformat_minor": 2
}
